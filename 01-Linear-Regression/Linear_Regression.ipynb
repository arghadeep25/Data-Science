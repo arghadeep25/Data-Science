{
 "cells": [
  {
   "cell_type": "markdown",
   "metadata": {},
   "source": [
    "# Linear Regression with Gradient Descent"
   ]
  },
  {
   "cell_type": "code",
   "execution_count": null,
   "metadata": {},
   "outputs": [],
   "source": [
    "import numpy as np\n",
    "import pandas as pd\n",
    "import matplotlib.pyplot as plt"
   ]
  },
  {
   "cell_type": "raw",
   "metadata": {},
   "source": [
    "Reading and Plotting the data"
   ]
  },
  {
   "cell_type": "code",
   "execution_count": null,
   "metadata": {},
   "outputs": [],
   "source": [
    "data = pd.read_csv('data.csv')\n",
    "X = data.iloc[:,0]\n",
    "Y = data.iloc[:,1]\n",
    "plt.scatter(X,Y)\n",
    "plt.show()"
   ]
  },
  {
   "cell_type": "raw",
   "metadata": {},
   "source": [
    "Building the Model"
   ]
  },
  {
   "cell_type": "code",
   "execution_count": null,
   "metadata": {},
   "outputs": [],
   "source": [
    "m = 0\n",
    "c = 0\n",
    "\n",
    "L = 0.0001 # Learning rate\n",
    "epochs = 1000 # Number of iterations to perform Gradient Descent\n",
    "\n",
    "n = len(X) # Number of elements\n",
    "\n",
    "for i in range(epochs):\n",
    "    Y_pred = m*X + c # Current predicted value\n",
    "    D_m = (-2/n) * sum ( X * (Y - Y_pred))\n",
    "    D_c = (-2/n) * sum (Y - Y_pred)\n",
    "    m = m - L * D_m\n",
    "    c = c - L * D_c"
   ]
  },
  {
   "cell_type": "raw",
   "metadata": {},
   "source": [
    "Displaying the results"
   ]
  },
  {
   "cell_type": "code",
   "execution_count": null,
   "metadata": {},
   "outputs": [],
   "source": [
    "print(np.mean(X))\n",
    "print(m, c)"
   ]
  },
  {
   "cell_type": "raw",
   "metadata": {},
   "source": [
    "Making Prediction"
   ]
  },
  {
   "cell_type": "code",
   "execution_count": null,
   "metadata": {},
   "outputs": [],
   "source": [
    "Y_pred = m*X + c\n",
    "plt.scatter(X, Y)\n",
    "plt.plot([min(X), max(X)], [min(Y_pred), max(Y_pred)], color = 'red')\n",
    "plt.show()"
   ]
  },
  {
   "cell_type": "code",
   "execution_count": null,
   "metadata": {},
   "outputs": [],
   "source": []
  }
 ],
 "metadata": {
  "kernelspec": {
   "display_name": "Python 3",
   "language": "python",
   "name": "python3"
  },
  "language_info": {
   "codemirror_mode": {
    "name": "ipython",
    "version": 3
   },
   "file_extension": ".py",
   "mimetype": "text/x-python",
   "name": "python",
   "nbconvert_exporter": "python",
   "pygments_lexer": "ipython3",
   "version": "3.5.2"
  }
 },
 "nbformat": 4,
 "nbformat_minor": 2
}
